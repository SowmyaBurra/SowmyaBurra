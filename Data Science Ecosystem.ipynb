{
 "cells": [
  {
   "cell_type": "markdown",
   "id": "e7bcfbb2-d0e8-46e6-aa56-91d0149927c2",
   "metadata": {},
   "source": [
    "# Data Science Tools and Ecosystem"
   ]
  },
  {
   "cell_type": "markdown",
   "id": "f40b9f02-1aea-45cf-b0c3-25b97fdd80df",
   "metadata": {},
   "source": [
    "In this notebook, Data Science Tools and Ecosystem are summerized."
   ]
  },
  {
   "cell_type": "markdown",
   "id": "02d0fadd-73ef-4dba-8037-ae2695608035",
   "metadata": {},
   "source": [
    "Some of the popular languages that Data Scientists use are:\n",
    "\n",
    "1.Python\n",
    "\n",
    "2.R\n",
    "\n",
    "3.SQL\n",
    "\n",
    "4.Java\n",
    "\n",
    "5.Scala"
   ]
  },
  {
   "cell_type": "markdown",
   "id": "b11d1a7b-f913-4828-9c81-8b6782b3d7f8",
   "metadata": {},
   "source": [
    "Some of the commonly used libraries by Data Scientists include:\n",
    "\n",
    "1.Pandas\n",
    "\n",
    "2.Matplotlib\n",
    "\n",
    "3.Numpy\n",
    "\n",
    "4.Tensorflow\n",
    "\n",
    "5.Apache Spark"
   ]
  },
  {
   "cell_type": "markdown",
   "id": "68309222-16a4-43d7-be7c-d72e0efcbe25",
   "metadata": {},
   "source": [
    "|Data Science Tools|\n",
    "|---------------|\n",
    "|Anaconda|\n",
    "|Jupyter Notebooks|\n",
    "|R Studio|"
   ]
  },
  {
   "cell_type": "markdown",
   "id": "9a2a5011-1a6a-4403-ad42-c85ab9277631",
   "metadata": {},
   "source": [
    "### Below are a few examples of evaluating Airthematic expressions in Python."
   ]
  },
  {
   "cell_type": "code",
   "execution_count": 2,
   "id": "7261cb5c-796a-4342-bb03-f295915815f1",
   "metadata": {
    "tags": []
   },
   "outputs": [
    {
     "data": {
      "text/plain": [
       "17"
      ]
     },
     "execution_count": 2,
     "metadata": {},
     "output_type": "execute_result"
    }
   ],
   "source": [
    "# This a simple airthematic expression to multiply then add integers\n",
    "(3*4)+5"
   ]
  },
  {
   "cell_type": "code",
   "execution_count": 3,
   "id": "375f53cf-2969-40c4-aea4-f247f3f88265",
   "metadata": {
    "tags": []
   },
   "outputs": [
    {
     "data": {
      "text/plain": [
       "3.3333333333333335"
      ]
     },
     "execution_count": 3,
     "metadata": {},
     "output_type": "execute_result"
    }
   ],
   "source": [
    "# This will  convert 200 minutes to hours by dividing by 60\n",
    "200/60"
   ]
  },
  {
   "cell_type": "markdown",
   "id": "6790881e-86f3-4eda-b74f-8160664dc6f4",
   "metadata": {},
   "source": [
    "___Objectives:___\n",
    "* Add comments to code cells\n",
    "* Create markdown cells\n",
    "* Add ordered and unordered lists to markdown cells\n",
    "* Format content of markdown cells with heading styles"
   ]
  },
  {
   "cell_type": "markdown",
   "id": "0a0622d9-1470-4ad8-af51-1b0bf157c522",
   "metadata": {},
   "source": [
    "## Author\n",
    "Sowmya Burra"
   ]
  },
  {
   "cell_type": "code",
   "execution_count": null,
   "id": "52007f16-c514-4761-b407-db14902feeba",
   "metadata": {},
   "outputs": [],
   "source": []
  }
 ],
 "metadata": {
  "kernelspec": {
   "display_name": "Python",
   "language": "python",
   "name": "conda-env-python-py"
  },
  "language_info": {
   "codemirror_mode": {
    "name": "ipython",
    "version": 3
   },
   "file_extension": ".py",
   "mimetype": "text/x-python",
   "name": "python",
   "nbconvert_exporter": "python",
   "pygments_lexer": "ipython3",
   "version": "3.7.12"
  }
 },
 "nbformat": 4,
 "nbformat_minor": 5
}
